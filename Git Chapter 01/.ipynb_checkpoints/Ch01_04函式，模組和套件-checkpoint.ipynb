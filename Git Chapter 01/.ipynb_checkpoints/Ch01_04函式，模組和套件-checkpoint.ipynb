{
 "cells": [
  {
   "cell_type": "code",
   "execution_count": 1,
   "id": "1f131dc7",
   "metadata": {},
   "outputs": [],
   "source": [
    "def say_hello():\n",
    "    print('Hello World!')"
   ]
  },
  {
   "cell_type": "code",
   "execution_count": 2,
   "id": "3696ddd9",
   "metadata": {},
   "outputs": [
    {
     "name": "stdout",
     "output_type": "stream",
     "text": [
      "Hello World!\n"
     ]
    }
   ],
   "source": [
    "say_hello()"
   ]
  },
  {
   "cell_type": "code",
   "execution_count": 3,
   "id": "1ee79c44",
   "metadata": {},
   "outputs": [],
   "source": [
    "def say_hello(name = 'Word'):\n",
    "    print('Hello {}!'.format(name))"
   ]
  },
  {
   "cell_type": "code",
   "execution_count": 5,
   "id": "f2c8803e",
   "metadata": {},
   "outputs": [
    {
     "name": "stdout",
     "output_type": "stream",
     "text": [
      "Hello James!\n"
     ]
    }
   ],
   "source": [
    "say_hello('James')"
   ]
  },
  {
   "cell_type": "code",
   "execution_count": 6,
   "id": "99aeb37d",
   "metadata": {},
   "outputs": [],
   "source": [
    "def say_hello(name = 'World'):\n",
    "    return 'Hello {}!'.format(name)"
   ]
  },
  {
   "cell_type": "code",
   "execution_count": 7,
   "id": "7add15be",
   "metadata": {},
   "outputs": [],
   "source": [
    "text = say_hello()"
   ]
  },
  {
   "cell_type": "code",
   "execution_count": 8,
   "id": "992152b2",
   "metadata": {},
   "outputs": [
    {
     "data": {
      "text/plain": [
       "'Hello World!'"
      ]
     },
     "execution_count": 8,
     "metadata": {},
     "output_type": "execute_result"
    }
   ],
   "source": [
    "text"
   ]
  },
  {
   "cell_type": "code",
   "execution_count": 14,
   "id": "27cd6bdc",
   "metadata": {},
   "outputs": [],
   "source": [
    "def number_guessing():\n",
    "    \n",
    "    hidden = random.randint(1, 100)\n",
    "    \n",
    "    while True:\n",
    "        \n",
    "        guess = int(input('Guess the number (1-100):'))\n",
    "        \n",
    "        if guess == hidden:\n",
    "            print('Correct!')\n",
    "            break\n",
    "        elif guess < hidden:\n",
    "            print('Higher')\n",
    "        else:\n",
    "            print('Lower')"
   ]
  },
  {
   "cell_type": "code",
   "execution_count": 11,
   "id": "a4fa05f0",
   "metadata": {},
   "outputs": [
    {
     "ename": "NameError",
     "evalue": "name 'random' is not defined",
     "output_type": "error",
     "traceback": [
      "\u001b[0;31m---------------------------------------------------------------------------\u001b[0m",
      "\u001b[0;31mNameError\u001b[0m                                 Traceback (most recent call last)",
      "\u001b[0;32m/var/folders/jf/pyw8jc9s2zn555b8ly_yd3l80000gn/T/ipykernel_3070/3640817393.py\u001b[0m in \u001b[0;36m<module>\u001b[0;34m\u001b[0m\n\u001b[0;32m----> 1\u001b[0;31m \u001b[0mnumber_guessing\u001b[0m\u001b[0;34m(\u001b[0m\u001b[0;34m)\u001b[0m\u001b[0;34m\u001b[0m\u001b[0;34m\u001b[0m\u001b[0m\n\u001b[0m",
      "\u001b[0;32m/var/folders/jf/pyw8jc9s2zn555b8ly_yd3l80000gn/T/ipykernel_3070/3105150678.py\u001b[0m in \u001b[0;36mnumber_guessing\u001b[0;34m()\u001b[0m\n\u001b[1;32m      1\u001b[0m \u001b[0;32mdef\u001b[0m \u001b[0mnumber_guessing\u001b[0m\u001b[0;34m(\u001b[0m\u001b[0;34m)\u001b[0m\u001b[0;34m:\u001b[0m\u001b[0;34m\u001b[0m\u001b[0;34m\u001b[0m\u001b[0m\n\u001b[1;32m      2\u001b[0m \u001b[0;34m\u001b[0m\u001b[0m\n\u001b[0;32m----> 3\u001b[0;31m     \u001b[0mhidden\u001b[0m \u001b[0;34m=\u001b[0m \u001b[0mrandom\u001b[0m\u001b[0;34m.\u001b[0m\u001b[0mrandint\u001b[0m\u001b[0;34m(\u001b[0m\u001b[0;36m1\u001b[0m\u001b[0;34m,\u001b[0m \u001b[0;36m100\u001b[0m\u001b[0;34m)\u001b[0m\u001b[0;34m\u001b[0m\u001b[0;34m\u001b[0m\u001b[0m\n\u001b[0m\u001b[1;32m      4\u001b[0m \u001b[0;34m\u001b[0m\u001b[0m\n\u001b[1;32m      5\u001b[0m     \u001b[0;32mwhile\u001b[0m \u001b[0;32mTrue\u001b[0m\u001b[0;34m:\u001b[0m\u001b[0;34m\u001b[0m\u001b[0;34m\u001b[0m\u001b[0m\n",
      "\u001b[0;31mNameError\u001b[0m: name 'random' is not defined"
     ]
    }
   ],
   "source": [
    "number_guessing()"
   ]
  },
  {
   "cell_type": "code",
   "execution_count": null,
   "id": "4d9778d1",
   "metadata": {},
   "outputs": [],
   "source": []
  }
 ],
 "metadata": {
  "kernelspec": {
   "display_name": "Python 3 (ipykernel)",
   "language": "python",
   "name": "python3"
  },
  "language_info": {
   "codemirror_mode": {
    "name": "ipython",
    "version": 3
   },
   "file_extension": ".py",
   "mimetype": "text/x-python",
   "name": "python",
   "nbconvert_exporter": "python",
   "pygments_lexer": "ipython3",
   "version": "3.9.13"
  }
 },
 "nbformat": 4,
 "nbformat_minor": 5
}
