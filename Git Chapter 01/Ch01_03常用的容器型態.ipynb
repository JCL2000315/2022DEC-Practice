{
 "cells": [
  {
   "cell_type": "code",
   "execution_count": 1,
   "id": "41c5885a",
   "metadata": {},
   "outputs": [],
   "source": [
    "box = [50, 10, 10, 100]"
   ]
  },
  {
   "cell_type": "code",
   "execution_count": 2,
   "id": "eb90c0da",
   "metadata": {},
   "outputs": [
    {
     "data": {
      "text/plain": [
       "[50, 10, 10, 100]"
      ]
     },
     "execution_count": 2,
     "metadata": {},
     "output_type": "execute_result"
    }
   ],
   "source": [
    "box"
   ]
  },
  {
   "cell_type": "code",
   "execution_count": 3,
   "id": "60179e8f",
   "metadata": {},
   "outputs": [
    {
     "data": {
      "text/plain": [
       "50"
      ]
     },
     "execution_count": 3,
     "metadata": {},
     "output_type": "execute_result"
    }
   ],
   "source": [
    "box[0]"
   ]
  },
  {
   "cell_type": "code",
   "execution_count": 4,
   "id": "94ea94ea",
   "metadata": {},
   "outputs": [
    {
     "data": {
      "text/plain": [
       "100"
      ]
     },
     "execution_count": 4,
     "metadata": {},
     "output_type": "execute_result"
    }
   ],
   "source": [
    "box[-1]"
   ]
  },
  {
   "cell_type": "code",
   "execution_count": 5,
   "id": "d69e0b5c",
   "metadata": {},
   "outputs": [
    {
     "data": {
      "text/plain": [
       "[50, 10, 10]"
      ]
     },
     "execution_count": 5,
     "metadata": {},
     "output_type": "execute_result"
    }
   ],
   "source": [
    "box[:3]"
   ]
  },
  {
   "cell_type": "code",
   "execution_count": 6,
   "id": "bef01e00",
   "metadata": {},
   "outputs": [
    {
     "data": {
      "text/plain": [
       "[10, 10]"
      ]
     },
     "execution_count": 6,
     "metadata": {},
     "output_type": "execute_result"
    }
   ],
   "source": [
    "box[1:3]"
   ]
  },
  {
   "cell_type": "code",
   "execution_count": 8,
   "id": "fe9801c9",
   "metadata": {},
   "outputs": [],
   "source": [
    "box.append(5)"
   ]
  },
  {
   "cell_type": "code",
   "execution_count": 9,
   "id": "c3ee24cd",
   "metadata": {},
   "outputs": [
    {
     "data": {
      "text/plain": [
       "[50, 10, 10, 100, 5]"
      ]
     },
     "execution_count": 9,
     "metadata": {},
     "output_type": "execute_result"
    }
   ],
   "source": [
    "box"
   ]
  },
  {
   "cell_type": "code",
   "execution_count": 10,
   "id": "cb634fac",
   "metadata": {},
   "outputs": [],
   "source": [
    "box.insert(1,100)"
   ]
  },
  {
   "cell_type": "code",
   "execution_count": 11,
   "id": "cd1e35d1",
   "metadata": {},
   "outputs": [
    {
     "data": {
      "text/plain": [
       "[50, 100, 10, 10, 100, 5]"
      ]
     },
     "execution_count": 11,
     "metadata": {},
     "output_type": "execute_result"
    }
   ],
   "source": [
    "box"
   ]
  },
  {
   "cell_type": "code",
   "execution_count": 12,
   "id": "039bdacc",
   "metadata": {},
   "outputs": [],
   "source": [
    "box[2] = 50"
   ]
  },
  {
   "cell_type": "code",
   "execution_count": 13,
   "id": "f41253a9",
   "metadata": {},
   "outputs": [
    {
     "data": {
      "text/plain": [
       "[50, 100, 50, 10, 100, 5]"
      ]
     },
     "execution_count": 13,
     "metadata": {},
     "output_type": "execute_result"
    }
   ],
   "source": [
    "box"
   ]
  },
  {
   "cell_type": "code",
   "execution_count": 15,
   "id": "6b0e0982",
   "metadata": {},
   "outputs": [
    {
     "data": {
      "text/plain": [
       "5"
      ]
     },
     "execution_count": 15,
     "metadata": {},
     "output_type": "execute_result"
    }
   ],
   "source": [
    "box.pop()"
   ]
  },
  {
   "cell_type": "code",
   "execution_count": 16,
   "id": "7307976e",
   "metadata": {},
   "outputs": [
    {
     "data": {
      "text/plain": [
       "[50, 100, 50, 10, 100]"
      ]
     },
     "execution_count": 16,
     "metadata": {},
     "output_type": "execute_result"
    }
   ],
   "source": [
    "box"
   ]
  },
  {
   "cell_type": "code",
   "execution_count": 17,
   "id": "92bda4af",
   "metadata": {},
   "outputs": [
    {
     "data": {
      "text/plain": [
       "100"
      ]
     },
     "execution_count": 17,
     "metadata": {},
     "output_type": "execute_result"
    }
   ],
   "source": [
    "box.pop(1)"
   ]
  },
  {
   "cell_type": "code",
   "execution_count": 18,
   "id": "3fd9edef",
   "metadata": {},
   "outputs": [
    {
     "data": {
      "text/plain": [
       "[50, 50, 10, 100]"
      ]
     },
     "execution_count": 18,
     "metadata": {},
     "output_type": "execute_result"
    }
   ],
   "source": [
    "box"
   ]
  },
  {
   "cell_type": "code",
   "execution_count": 19,
   "id": "32a7384e",
   "metadata": {},
   "outputs": [
    {
     "name": "stdout",
     "output_type": "stream",
     "text": [
      "50\n",
      "50\n",
      "10\n",
      "100\n"
     ]
    }
   ],
   "source": [
    "for i in box:\n",
    "    print(i)"
   ]
  },
  {
   "cell_type": "code",
   "execution_count": 20,
   "id": "a22390b2",
   "metadata": {},
   "outputs": [],
   "source": [
    "box = [50, 10, 50, 10, 10, 10, 5, 50, 50, 5]"
   ]
  },
  {
   "cell_type": "code",
   "execution_count": 22,
   "id": "72489f23",
   "metadata": {},
   "outputs": [
    {
     "name": "stdout",
     "output_type": "stream",
     "text": [
      "250\n"
     ]
    }
   ],
   "source": [
    "total = 0 \n",
    "\n",
    "for coin in box:\n",
    "    total += coin \n",
    "    \n",
    "print(total)"
   ]
  },
  {
   "cell_type": "code",
   "execution_count": 23,
   "id": "c9e90f43",
   "metadata": {},
   "outputs": [],
   "source": [
    "accounts = {\n",
    "    'James': 1000000,\n",
    "    'Mark': 8000\n",
    "}"
   ]
  },
  {
   "cell_type": "code",
   "execution_count": 25,
   "id": "d8745564",
   "metadata": {},
   "outputs": [
    {
     "data": {
      "text/plain": [
       "{'James': 1000000, 'Mark': 8000}"
      ]
     },
     "execution_count": 25,
     "metadata": {},
     "output_type": "execute_result"
    }
   ],
   "source": [
    "accounts"
   ]
  },
  {
   "cell_type": "code",
   "execution_count": 26,
   "id": "4926689a",
   "metadata": {},
   "outputs": [
    {
     "data": {
      "text/plain": [
       "1000000"
      ]
     },
     "execution_count": 26,
     "metadata": {},
     "output_type": "execute_result"
    }
   ],
   "source": [
    "accounts.get('James')"
   ]
  },
  {
   "cell_type": "code",
   "execution_count": 27,
   "id": "ed0d776b",
   "metadata": {},
   "outputs": [],
   "source": [
    "accounts['Allen'] = 40000"
   ]
  },
  {
   "cell_type": "code",
   "execution_count": 28,
   "id": "2731b4a0",
   "metadata": {},
   "outputs": [
    {
     "data": {
      "text/plain": [
       "{'James': 1000000, 'Mark': 8000, 'Allen': 40000}"
      ]
     },
     "execution_count": 28,
     "metadata": {},
     "output_type": "execute_result"
    }
   ],
   "source": [
    "accounts"
   ]
  },
  {
   "cell_type": "code",
   "execution_count": 29,
   "id": "1000fffd",
   "metadata": {},
   "outputs": [],
   "source": [
    "accounts['James'] = 500000"
   ]
  },
  {
   "cell_type": "code",
   "execution_count": 30,
   "id": "661b07fc",
   "metadata": {},
   "outputs": [
    {
     "data": {
      "text/plain": [
       "{'James': 500000, 'Mark': 8000, 'Allen': 40000}"
      ]
     },
     "execution_count": 30,
     "metadata": {},
     "output_type": "execute_result"
    }
   ],
   "source": [
    "accounts"
   ]
  },
  {
   "cell_type": "code",
   "execution_count": 31,
   "id": "d93b1559",
   "metadata": {},
   "outputs": [],
   "source": [
    "del accounts['Mark']"
   ]
  },
  {
   "cell_type": "code",
   "execution_count": 32,
   "id": "913937c8",
   "metadata": {},
   "outputs": [
    {
     "data": {
      "text/plain": [
       "{'James': 500000, 'Allen': 40000}"
      ]
     },
     "execution_count": 32,
     "metadata": {},
     "output_type": "execute_result"
    }
   ],
   "source": [
    "accounts"
   ]
  },
  {
   "cell_type": "code",
   "execution_count": 33,
   "id": "f97e2b5a",
   "metadata": {},
   "outputs": [
    {
     "name": "stdout",
     "output_type": "stream",
     "text": [
      "James\n",
      "Allen\n"
     ]
    }
   ],
   "source": [
    "for account in accounts:\n",
    "    print(account)"
   ]
  },
  {
   "cell_type": "code",
   "execution_count": 34,
   "id": "73a4e274",
   "metadata": {},
   "outputs": [
    {
     "name": "stdout",
     "output_type": "stream",
     "text": [
      "James 500000\n",
      "Allen 40000\n"
     ]
    }
   ],
   "source": [
    "for account in accounts:\n",
    "    print(account, accounts[account])"
   ]
  },
  {
   "cell_type": "code",
   "execution_count": 56,
   "id": "b697dfa2",
   "metadata": {},
   "outputs": [
    {
     "name": "stdout",
     "output_type": "stream",
     "text": [
      "James 500000\n",
      "Allen 40000\n"
     ]
    }
   ],
   "source": [
    "for account, amount in accounts.items():\n",
    "    print(account, amount)"
   ]
  },
  {
   "cell_type": "code",
   "execution_count": 52,
   "id": "7d52f67b",
   "metadata": {},
   "outputs": [
    {
     "ename": "TypeError",
     "evalue": "'>' not supported between instances of 'int' and 'str'",
     "output_type": "error",
     "traceback": [
      "\u001b[0;31m---------------------------------------------------------------------------\u001b[0m",
      "\u001b[0;31mTypeError\u001b[0m                                 Traceback (most recent call last)",
      "\u001b[0;32m/var/folders/jf/pyw8jc9s2zn555b8ly_yd3l80000gn/T/ipykernel_2614/3453864246.py\u001b[0m in \u001b[0;36m<module>\u001b[0;34m\u001b[0m\n\u001b[1;32m      4\u001b[0m \u001b[0;32mfor\u001b[0m \u001b[0maccount\u001b[0m\u001b[0;34m,\u001b[0m \u001b[0mamount\u001b[0m \u001b[0;32min\u001b[0m \u001b[0maccounts\u001b[0m\u001b[0;34m.\u001b[0m\u001b[0mitems\u001b[0m\u001b[0;34m(\u001b[0m\u001b[0;34m)\u001b[0m\u001b[0;34m:\u001b[0m\u001b[0;34m\u001b[0m\u001b[0;34m\u001b[0m\u001b[0m\n\u001b[1;32m      5\u001b[0m \u001b[0;34m\u001b[0m\u001b[0m\n\u001b[0;32m----> 6\u001b[0;31m     \u001b[0;32mif\u001b[0m \u001b[0mamount\u001b[0m \u001b[0;34m>\u001b[0m \u001b[0mhighest\u001b[0m\u001b[0;34m:\u001b[0m\u001b[0;34m\u001b[0m\u001b[0;34m\u001b[0m\u001b[0m\n\u001b[0m\u001b[1;32m      7\u001b[0m         \u001b[0mbank_account\u001b[0m \u001b[0;34m=\u001b[0m \u001b[0maccount\u001b[0m\u001b[0;34m\u001b[0m\u001b[0;34m\u001b[0m\u001b[0m\n\u001b[1;32m      8\u001b[0m         \u001b[0mhighest\u001b[0m \u001b[0;34m=\u001b[0m \u001b[0maccount\u001b[0m\u001b[0;34m\u001b[0m\u001b[0;34m\u001b[0m\u001b[0m\n",
      "\u001b[0;31mTypeError\u001b[0m: '>' not supported between instances of 'int' and 'str'"
     ]
    }
   ],
   "source": [
    "bank_account = None\n",
    "highest = 0\n",
    "\n",
    "for account, amount in accounts.items():\n",
    "    \n",
    "    if amount > highest:\n",
    "        bank_account = account\n",
    "        highest = account \n",
    "        \n",
    "print(bank_acount, highest)\n",
    "    "
   ]
  },
  {
   "cell_type": "code",
   "execution_count": 53,
   "id": "8112a124",
   "metadata": {},
   "outputs": [
    {
     "data": {
      "text/plain": [
       "int"
      ]
     },
     "execution_count": 53,
     "metadata": {},
     "output_type": "execute_result"
    }
   ],
   "source": [
    "type(amount)"
   ]
  },
  {
   "cell_type": "code",
   "execution_count": 54,
   "id": "6780e91f",
   "metadata": {},
   "outputs": [
    {
     "data": {
      "text/plain": [
       "str"
      ]
     },
     "execution_count": 54,
     "metadata": {},
     "output_type": "execute_result"
    }
   ],
   "source": [
    "type(highest)"
   ]
  }
 ],
 "metadata": {
  "kernelspec": {
   "display_name": "Python 3 (ipykernel)",
   "language": "python",
   "name": "python3"
  },
  "language_info": {
   "codemirror_mode": {
    "name": "ipython",
    "version": 3
   },
   "file_extension": ".py",
   "mimetype": "text/x-python",
   "name": "python",
   "nbconvert_exporter": "python",
   "pygments_lexer": "ipython3",
   "version": "3.9.13"
  }
 },
 "nbformat": 4,
 "nbformat_minor": 5
}
