{
 "cells": [
  {
   "cell_type": "code",
   "execution_count": 15,
   "id": "262f7dd4",
   "metadata": {},
   "outputs": [],
   "source": [
    "class Piggybank:\n",
    "    \n",
    "    def __init__(self,  colar):\n",
    "        self.colar = colar\n",
    "        self.amount = 0\n",
    "        \n",
    "    def insert_money(self, coin):\n",
    "        if coin in [1, 5, 10 ,50]:\n",
    "            self.amount += coin\n",
    "        else:\n",
    "            print('請投入硬幣')"
   ]
  },
  {
   "cell_type": "code",
   "execution_count": 16,
   "id": "b3ff5264",
   "metadata": {},
   "outputs": [],
   "source": [
    "p1 = Piggybank('red')"
   ]
  },
  {
   "cell_type": "code",
   "execution_count": 17,
   "id": "31cca8ae",
   "metadata": {},
   "outputs": [
    {
     "data": {
      "text/plain": [
       "'red'"
      ]
     },
     "execution_count": 17,
     "metadata": {},
     "output_type": "execute_result"
    }
   ],
   "source": [
    "p1.colar"
   ]
  },
  {
   "cell_type": "code",
   "execution_count": 18,
   "id": "b69247e2",
   "metadata": {},
   "outputs": [
    {
     "data": {
      "text/plain": [
       "0"
      ]
     },
     "execution_count": 18,
     "metadata": {},
     "output_type": "execute_result"
    }
   ],
   "source": [
    "p1.amount"
   ]
  },
  {
   "cell_type": "code",
   "execution_count": 19,
   "id": "b73bff4a",
   "metadata": {},
   "outputs": [],
   "source": [
    "p1.insert_money(50)"
   ]
  },
  {
   "cell_type": "code",
   "execution_count": 20,
   "id": "a4363ee6",
   "metadata": {},
   "outputs": [
    {
     "data": {
      "text/plain": [
       "50"
      ]
     },
     "execution_count": 20,
     "metadata": {},
     "output_type": "execute_result"
    }
   ],
   "source": [
    "p1.amount"
   ]
  },
  {
   "cell_type": "code",
   "execution_count": 21,
   "id": "e08c3e31",
   "metadata": {},
   "outputs": [],
   "source": [
    "p2 = Piggybank('blue')"
   ]
  },
  {
   "cell_type": "code",
   "execution_count": 22,
   "id": "3806fbd0",
   "metadata": {},
   "outputs": [
    {
     "name": "stdout",
     "output_type": "stream",
     "text": [
      "blue\n"
     ]
    }
   ],
   "source": [
    "print(p2.colar)"
   ]
  },
  {
   "cell_type": "code",
   "execution_count": 23,
   "id": "d5e706ea",
   "metadata": {},
   "outputs": [
    {
     "data": {
      "text/plain": [
       "0"
      ]
     },
     "execution_count": 23,
     "metadata": {},
     "output_type": "execute_result"
    }
   ],
   "source": [
    "p2.amount"
   ]
  },
  {
   "cell_type": "code",
   "execution_count": null,
   "id": "08ab232b",
   "metadata": {},
   "outputs": [],
   "source": []
  }
 ],
 "metadata": {
  "kernelspec": {
   "display_name": "Python 3 (ipykernel)",
   "language": "python",
   "name": "python3"
  },
  "language_info": {
   "codemirror_mode": {
    "name": "ipython",
    "version": 3
   },
   "file_extension": ".py",
   "mimetype": "text/x-python",
   "name": "python",
   "nbconvert_exporter": "python",
   "pygments_lexer": "ipython3",
   "version": "3.9.13"
  }
 },
 "nbformat": 4,
 "nbformat_minor": 5
}
