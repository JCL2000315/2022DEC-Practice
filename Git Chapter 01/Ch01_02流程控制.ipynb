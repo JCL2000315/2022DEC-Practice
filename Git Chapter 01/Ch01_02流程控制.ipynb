{
 "cells": [
  {
   "cell_type": "code",
   "execution_count": 1,
   "id": "bbf28997",
   "metadata": {},
   "outputs": [],
   "source": [
    "price = 60 "
   ]
  },
  {
   "cell_type": "code",
   "execution_count": 4,
   "id": "ee25540e",
   "metadata": {},
   "outputs": [
    {
     "name": "stdout",
     "output_type": "stream",
     "text": [
      "hold\n"
     ]
    }
   ],
   "source": [
    "if price < 40:\n",
    "    print(\"buy\")\n",
    "elif price >= 40 and price < 80:\n",
    "    print(\"hold\")\n",
    "else:\n",
    "    print(\"sell\")"
   ]
  },
  {
   "cell_type": "code",
   "execution_count": 8,
   "id": "52382e3e",
   "metadata": {},
   "outputs": [
    {
     "name": "stdout",
     "output_type": "stream",
     "text": [
      "0\n",
      "1\n",
      "2\n",
      "3\n",
      "4\n",
      "5\n",
      "6\n",
      "7\n",
      "8\n",
      "9\n"
     ]
    }
   ],
   "source": [
    "for i in range(10):\n",
    "    print(i)"
   ]
  },
  {
   "cell_type": "code",
   "execution_count": 17,
   "id": "47861d15",
   "metadata": {},
   "outputs": [
    {
     "name": "stdout",
     "output_type": "stream",
     "text": [
      "1\n",
      "2\n",
      "3\n",
      "4\n",
      "5\n",
      "7\n",
      "8\n",
      "9\n",
      "10\n"
     ]
    }
   ],
   "source": [
    "for i in range(1, 11):\n",
    "    \n",
    "    if i == 6:\n",
    "        continue\n",
    "        \n",
    "    print(i)"
   ]
  },
  {
   "cell_type": "code",
   "execution_count": 18,
   "id": "901467ad",
   "metadata": {},
   "outputs": [
    {
     "name": "stdout",
     "output_type": "stream",
     "text": [
      "1\n",
      "2\n",
      "3\n",
      "4\n",
      "5\n"
     ]
    }
   ],
   "source": [
    "for i in range(1, 11):\n",
    "    \n",
    "    if i == 6:\n",
    "        break\n",
    "        \n",
    "    print(i)"
   ]
  },
  {
   "cell_type": "code",
   "execution_count": 19,
   "id": "59f2824e",
   "metadata": {},
   "outputs": [
    {
     "name": "stdout",
     "output_type": "stream",
     "text": [
      "1\n",
      "2\n",
      "3\n",
      "4\n",
      "5\n",
      "6\n",
      "7\n",
      "8\n",
      "9\n",
      "10\n"
     ]
    }
   ],
   "source": [
    "for i in range(1, 11):\n",
    "    \n",
    "    if i == 6:\n",
    "        pass\n",
    "        \n",
    "    print(i)"
   ]
  },
  {
   "cell_type": "code",
   "execution_count": 28,
   "id": "33f66cde",
   "metadata": {},
   "outputs": [
    {
     "name": "stdout",
     "output_type": "stream",
     "text": [
      "2021年，本息為107000.0元\n",
      "2021年，本息為107000元\n",
      "2022年，本息為114490.0元\n",
      "2022年，本息為114490元\n",
      "2023年，本息為122504.3元\n",
      "2023年，本息為122504元\n",
      "2024年，本息為131079.60100000002元\n",
      "2024年，本息為131080元\n",
      "2025年，本息為140255.17307000005元\n",
      "2025年，本息為140255元\n",
      "2026年，本息為150073.03518490007元\n",
      "2026年，本息為150073元\n",
      "2027年，本息為160578.14764784308元\n",
      "2027年，本息為160578元\n",
      "2028年，本息為171818.61798319212元\n",
      "2028年，本息為171819元\n",
      "2029年，本息為183845.92124201558元\n",
      "2029年，本息為183846元\n",
      "2030年，本息為196715.1357289567元\n",
      "2030年，本息為196715元\n"
     ]
    }
   ],
   "source": [
    "年份 = 2020\n",
    "本金 = 100000\n",
    "年利率 = 0.07\n",
    "\n",
    "for i in range(10):\n",
    "    \n",
    "    本金 = 本金 * (1 + 年利率)\n",
    "    年份 = 年份 + 1 \n",
    "    print(str(年份) + '年，本息為' + str(本金) + '元')\n",
    "    print('{}年，本息為{}元'.format(年份, round(本金)))"
   ]
  },
  {
   "cell_type": "code",
   "execution_count": 34,
   "id": "ecec7959",
   "metadata": {},
   "outputs": [
    {
     "name": "stdout",
     "output_type": "stream",
     "text": [
      "please enter number:2\n",
      "please enter number:5\n"
     ]
    }
   ],
   "source": [
    "x = 0 \n",
    "\n",
    "while x < 10:\n",
    "    \n",
    "    x = int(input('please enter number:'))\n",
    "    \n",
    "    if x == 2:\n",
    "        continue\n",
    "    elif x == 5: \n",
    "        break\n",
    "    \n",
    "    print(x)"
   ]
  },
  {
   "cell_type": "code",
   "execution_count": 36,
   "id": "f484b6a6",
   "metadata": {},
   "outputs": [
    {
     "name": "stdout",
     "output_type": "stream",
     "text": [
      "今天存多少？500\n",
      "第1天存了500元，累計500\n",
      "今天存多少？300\n",
      "第2天存了300元，累計800\n",
      "今天存多少？400\n",
      "第3天存了400元，累計1200\n",
      "今天存多少？500\n",
      "第4天存了500元，累計1700\n",
      "今天存多少？300\n",
      "第5天存了300元，累計2000\n",
      "存錢筒滿了\n"
     ]
    }
   ],
   "source": [
    "存錢筒 = 0\n",
    "天數 = 0 \n",
    "\n",
    "while  存錢筒 < 2000:\n",
    "    \n",
    "    金額 = int(input('今天存多少？'))\n",
    "    \n",
    "    存錢筒 += 金額\n",
    "    天數 += 1 \n",
    "    \n",
    "    print('第{}天存了{}元，累計{}'.format(天數, 金額, 存錢筒))\n",
    "    \n",
    "print(\"存錢筒滿了\")"
   ]
  },
  {
   "cell_type": "code",
   "execution_count": null,
   "id": "44ad72ff",
   "metadata": {},
   "outputs": [],
   "source": []
  }
 ],
 "metadata": {
  "kernelspec": {
   "display_name": "Python 3 (ipykernel)",
   "language": "python",
   "name": "python3"
  },
  "language_info": {
   "codemirror_mode": {
    "name": "ipython",
    "version": 3
   },
   "file_extension": ".py",
   "mimetype": "text/x-python",
   "name": "python",
   "nbconvert_exporter": "python",
   "pygments_lexer": "ipython3",
   "version": "3.9.13"
  }
 },
 "nbformat": 4,
 "nbformat_minor": 5
}
