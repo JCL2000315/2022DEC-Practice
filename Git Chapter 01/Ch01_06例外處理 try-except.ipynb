{
 "cells": [
  {
   "cell_type": "code",
   "execution_count": 15,
   "id": "a102ac24",
   "metadata": {},
   "outputs": [
    {
     "name": "stdout",
     "output_type": "stream",
     "text": [
      "9000\n",
      "程式執行完畢\n"
     ]
    }
   ],
   "source": [
    "total = 0\n",
    "\n",
    "try:\n",
    "    with open('sample03.txt', 'r') as file:\n",
    "        for line in file:\n",
    "            total += int(line)\n",
    "            \n",
    "except FileNotFoundError as e:\n",
    "    print('找不到檔案：{}'.format(e))\n",
    "except Exception as e:\n",
    "    print('發生例外錯誤：{}'.format(e))\n",
    "    \n",
    "else:\n",
    "    print(total)\n",
    "finally:\n",
    "    print('程式執行完畢')\n",
    "\n"
   ]
  },
  {
   "cell_type": "code",
   "execution_count": null,
   "id": "78869e06",
   "metadata": {},
   "outputs": [],
   "source": []
  }
 ],
 "metadata": {
  "kernelspec": {
   "display_name": "Python 3 (ipykernel)",
   "language": "python",
   "name": "python3"
  },
  "language_info": {
   "codemirror_mode": {
    "name": "ipython",
    "version": 3
   },
   "file_extension": ".py",
   "mimetype": "text/x-python",
   "name": "python",
   "nbconvert_exporter": "python",
   "pygments_lexer": "ipython3",
   "version": "3.9.13"
  }
 },
 "nbformat": 4,
 "nbformat_minor": 5
}
